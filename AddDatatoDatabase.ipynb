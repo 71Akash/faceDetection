{
 "cells": [
  {
   "cell_type": "code",
   "execution_count": 1,
   "id": "2cdf7534-bb53-4e46-a86f-b31e202e3ead",
   "metadata": {},
   "outputs": [],
   "source": [
    "import firebase_admin\n",
    "from firebase_admin import credentials\n",
    "from firebase_admin import db\n",
    "cred = credentials.Certificate(\"serviceAccountKey.json\")\n",
    "firebase_admin.initialize_app(cred,{\n",
    "    'databaseURL':\"https://faceattendancerealtime-a1b14-default-rtdb.firebaseio.com/\"\n",
    "})\n",
    "\n",
    "\n",
    "ref = db.reference('Students')\n",
    "\n",
    "data = {\n",
    "    \"321654\":\n",
    "        {\n",
    "            \"name\" : \"Akash S\",\n",
    "            \"major\" : \"CSE\",\n",
    "            \"starting_year\":2020,\n",
    "            \"total_attendance\":7,\n",
    "            \"standing\":\"G\",\n",
    "            \"year\":4,\n",
    "            \"last_attendance_time\":\"2024-03-25 00:54:34\"\n",
    "        },\n",
    "    \"852741\":\n",
    "        {\n",
    "            \"name\" : \"Emily Blunt\",\n",
    "            \"major\" : \"ECE\",\n",
    "            \"starting_year\":2018,\n",
    "            \"total_attendance\":5,\n",
    "            \"standing\":\"B\",\n",
    "            \"year\":2,\n",
    "            \"last_attendance_time\":\"2024-03-24 00:54:34\"\n",
    "        },\n",
    "    \"963852\":\n",
    "        {\n",
    "            \"name\" : \"Elon Musk\",\n",
    "            \"major\" : \"IT\",\n",
    "            \"starting_year\":2016,\n",
    "            \"total_attendance\":9,\n",
    "            \"standing\":\"E\",\n",
    "            \"year\":5,\n",
    "            \"last_attendance_time\":\"2024-03-21 00:54:34\"\n",
    "        }\n",
    "}\n",
    "\n",
    "for key,value in data.items():\n",
    "    ref.child(key).set(value)"
   ]
  },
  {
   "cell_type": "code",
   "execution_count": null,
   "id": "9b66468e-12a4-4d2d-a2fe-456f048e5357",
   "metadata": {},
   "outputs": [],
   "source": []
  }
 ],
 "metadata": {
  "kernelspec": {
   "display_name": "Python 3 (ipykernel)",
   "language": "python",
   "name": "python3"
  },
  "language_info": {
   "codemirror_mode": {
    "name": "ipython",
    "version": 3
   },
   "file_extension": ".py",
   "mimetype": "text/x-python",
   "name": "python",
   "nbconvert_exporter": "python",
   "pygments_lexer": "ipython3",
   "version": "3.11.7"
  }
 },
 "nbformat": 4,
 "nbformat_minor": 5
}
