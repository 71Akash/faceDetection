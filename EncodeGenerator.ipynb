{
 "cells": [
  {
   "cell_type": "code",
   "execution_count": 12,
   "id": "8ab8f470-a45b-436b-8432-fd2bc6095568",
   "metadata": {},
   "outputs": [
    {
     "name": "stdout",
     "output_type": "stream",
     "text": [
      "['.ipynb_checkpoints', '321654.png', '852741.png', '963852.png']\n",
      "6\n",
      "['321654', '852741', '963852']\n"
     ]
    }
   ],
   "source": [
    "import cv2\n",
    "import face_recognition\n",
    "import pickle\n",
    "import os\n",
    "\n",
    "# Import mode images in list\n",
    "folderPath = 'Images'\n",
    "pathList = os.listdir(folderPath)\n",
    "print(pathList)\n",
    "imgList = []\n",
    "studentIds = []\n",
    "for path in pathList:\n",
    "    if not path.startswith('.'):  # Exclude files starting with '.'\n",
    "        imgList.append(cv2.imread(os.path.join(folderPath, path)))\n",
    "        \n",
    "        #print(path)\n",
    "        #print(os.path.splitext(path)[0])\n",
    "        \n",
    "        studentIds.append(os.path.splitext(path)[0])\n",
    "print(studentIds)\n",
    "\n"
   ]
  },
  {
   "cell_type": "code",
   "execution_count": 13,
   "id": "59221dc4-7583-4869-bafa-b361459f808f",
   "metadata": {},
   "outputs": [
    {
     "name": "stdout",
     "output_type": "stream",
     "text": [
      "['.ipynb_checkpoints', '321654.png', '852741.png', '963852.png']\n",
      "['321654', '852741', '963852']\n",
      "Encoding Started ...\n",
      "Encoding Complete\n"
     ]
    }
   ],
   "source": [
    "import cv2\n",
    "import face_recognition\n",
    "import pickle\n",
    "import os\n",
    "\n",
    "# Import mode images in list\n",
    "folderPath = 'Images'\n",
    "pathList = os.listdir(folderPath)\n",
    "print(pathList)\n",
    "imgList = []\n",
    "studentIds = []\n",
    "for path in pathList:\n",
    "    if not path.startswith('.'):  # Exclude files starting with '.'\n",
    "        imgList.append(cv2.imread(os.path.join(folderPath, path)))\n",
    "        \n",
    "        #print(path)\n",
    "        #print(os.path.splitext(path)[0])\n",
    "        \n",
    "        studentIds.append(os.path.splitext(path)[0])\n",
    "print(studentIds)\n",
    "\n",
    "def findEncodings(imagesList):\n",
    "    encodeList = []\n",
    "    for img in imagesList:\n",
    "        img = cv2.cvtColor(img, cv2.COLOR_BGR2RGB)\n",
    "        encode = face_recognition.face_encodings(img)[0]\n",
    "        encodeList.append(encode)\n",
    "\n",
    "    return encodeList\n",
    "    \n",
    "print(\"Encoding Started ...\")\n",
    "encodeListKnown = findEncodings(imgList)\n",
    "encodeListKnownWithIds = [encodeListKnown, studentIds]\n",
    "print(\"Encoding Complete\")\n"
   ]
  },
  {
   "cell_type": "code",
   "execution_count": 1,
   "id": "964dee7b-5dcc-4456-8319-335fdef85a92",
   "metadata": {},
   "outputs": [
    {
     "name": "stdout",
     "output_type": "stream",
     "text": [
      "['.ipynb_checkpoints', '321654.png', '852741.png', '963852.png']\n",
      "['321654', '852741', '963852']\n",
      "Encoding Started ...\n",
      "Encoding Complete\n",
      "File Saved\n"
     ]
    }
   ],
   "source": [
    "import cv2\n",
    "import face_recognition\n",
    "import pickle\n",
    "import os\n",
    "import firebase_admin\n",
    "from firebase_admin import credentials\n",
    "from firebase_admin import db\n",
    "from firebase_admin import storage\n",
    "\n",
    "cred = credentials.Certificate(\"serviceAccountKey.json\")\n",
    "firebase_admin.initialize_app(cred,{\n",
    "    'databaseURL':\"https://faceattendancerealtime-a1b14-default-rtdb.firebaseio.com/\",\n",
    "    'storageBucket':\"faceattendancerealtime-a1b14.appspot.com\"\n",
    "})\n",
    "\n",
    "# Import mode images in list\n",
    "folderPath = 'Images'\n",
    "pathList = os.listdir(folderPath)\n",
    "print(pathList)\n",
    "imgList = []\n",
    "studentIds = []\n",
    "for path in pathList:\n",
    "    if not path.startswith('.'):  # Exclude files starting with '.'\n",
    "        imgList.append(cv2.imread(os.path.join(folderPath, path)))\n",
    "        \n",
    "        #print(path)\n",
    "        #print(os.path.splitext(path)[0])\n",
    "        \n",
    "        studentIds.append(os.path.splitext(path)[0])\n",
    "\n",
    "        fileName = f'{folderPath}/{path}'\n",
    "        bucket = storage.bucket()\n",
    "        blob = bucket.blob(fileName)\n",
    "        blob.upload_from_filename(fileName)\n",
    "        \n",
    "print(studentIds)\n",
    "\n",
    "def findEncodings(imagesList):\n",
    "    encodeList = []\n",
    "    for img in imagesList:\n",
    "        img = cv2.cvtColor(img, cv2.COLOR_BGR2RGB)\n",
    "        encode = face_recognition.face_encodings(img)[0]\n",
    "        encodeList.append(encode)\n",
    "\n",
    "    return encodeList\n",
    "    \n",
    "print(\"Encoding Started ...\")\n",
    "encodeListKnown = findEncodings(imgList)\n",
    "encodeListKnownWithIds = [encodeListKnown, studentIds]\n",
    "print(\"Encoding Complete\")\n",
    "\n",
    "file = open(\"EncodeFile.p\", 'wb')\n",
    "pickle.dump(encodeListKnownWithIds, file)\n",
    "file.close()\n",
    "print(\"File Saved\")"
   ]
  },
  {
   "cell_type": "code",
   "execution_count": null,
   "id": "bf8fe13d-f49f-4f19-8cf6-c1adc6014983",
   "metadata": {},
   "outputs": [],
   "source": []
  }
 ],
 "metadata": {
  "kernelspec": {
   "display_name": "Python 3 (ipykernel)",
   "language": "python",
   "name": "python3"
  },
  "language_info": {
   "codemirror_mode": {
    "name": "ipython",
    "version": 3
   },
   "file_extension": ".py",
   "mimetype": "text/x-python",
   "name": "python",
   "nbconvert_exporter": "python",
   "pygments_lexer": "ipython3",
   "version": "3.11.7"
  }
 },
 "nbformat": 4,
 "nbformat_minor": 5
}
